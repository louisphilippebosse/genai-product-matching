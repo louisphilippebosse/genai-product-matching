{
 "cells": [
  {
   "cell_type": "markdown",
   "id": "67f65e60",
   "metadata": {},
   "source": [
    "# Matching System\n",
    "This notebook is used for prototyping the product matching system."
   ]
  }
 ],
 "metadata": {
  "language_info": {
   "name": "python"
  }
 },
 "nbformat": 4,
 "nbformat_minor": 5
}
