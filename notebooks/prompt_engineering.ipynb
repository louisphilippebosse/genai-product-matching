{
 "cells": [
  {
   "cell_type": "markdown",
   "id": "9a67c899",
   "metadata": {},
   "source": [
    "# Prompt Engineering\n",
    "This notebook is used for designing and testing prompts."
   ]
  }
 ],
 "metadata": {
  "language_info": {
   "name": "python"
  }
 },
 "nbformat": 4,
 "nbformat_minor": 5
}
