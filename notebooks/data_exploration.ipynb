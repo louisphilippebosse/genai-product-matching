{
 "cells": [
  {
   "cell_type": "markdown",
   "id": "b1a20b52",
   "metadata": {},
   "source": [
    "# Data Exploration\n",
    "This notebook is used for exploring the datasets."
   ]
  }
 ],
 "metadata": {
  "language_info": {
   "name": "python"
  }
 },
 "nbformat": 4,
 "nbformat_minor": 5
}
